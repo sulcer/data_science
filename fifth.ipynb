{
 "cells": [
  {
   "cell_type": "code",
   "execution_count": 296,
   "metadata": {
    "collapsed": true
   },
   "outputs": [
    {
     "name": "stdout",
     "output_type": "stream",
     "text": [
      "   wineId  country                                        description\n",
      "0     219  Hungary  From a vineyard in Northern Tokaj this dry Fur...\n",
      "1     271   Greece  Lively aromas of lemon, grapefruit and melon s...\n",
      "2     308   Greece  This fuller-bodied white blend offers pineappl...\n",
      "3     351  Hungary  This amber-colored Hungarian stunner has ether...\n",
      "4     377   Greece  A fresh, tangy, vibrant wine that has ripe gre...\n",
      "Greece      466\n",
      "Hungary     146\n",
      "Slovenia     87\n",
      "Croatia      73\n",
      "Name: country, dtype: int64\n"
     ]
    }
   ],
   "source": [
    "import string\n",
    "import pandas as pd\n",
    "import matplotlib.pyplot as plt\n",
    "import nltk\n",
    "from nltk.tokenize import word_tokenize\n",
    "from nltk import FreqDist\n",
    "from nltk.corpus import stopwords\n",
    "from nltk.stem import PorterStemmer\n",
    "from nltk import ngrams\n",
    "from sklearn.feature_extraction.text import TfidfVectorizer\n",
    "from sklearn.metrics import accuracy_score\n",
    "from sklearn import svm\n",
    "from sklearn.model_selection import train_test_split\n",
    "\n",
    "# nltk.download()\n",
    "\n",
    "df = pd.read_csv(\"wineReviews.csv\", sep='\\t')\n",
    "print(df.head())\n",
    "print(df['country'].value_counts())"
   ]
  },
  {
   "cell_type": "code",
   "execution_count": 297,
   "outputs": [
    {
     "name": "stdout",
     "output_type": "stream",
     "text": [
      "14     Earthy with hints of roasted nuts and dried he...\n",
      "30     This Slovenian Chardonnay has aromas of orange...\n",
      "32     This amber colored, orange-style wine has arom...\n",
      "33     This wine is garnet in color, with aromas of c...\n",
      "53     Vanilla and cookie crumb notes add a sweet, to...\n",
      "                             ...                        \n",
      "722    Zesty and full bodied, this has delightful aro...\n",
      "730    This has ebullient aromas of cherry blossom, g...\n",
      "748    This blend of 70% Blaufränkisch, 20% Pinot Noi...\n",
      "769    This blend is garnet colored with a hint of eu...\n",
      "770    Dark cherry to garnet in color, it offers note...\n",
      "Name: description, Length: 87, dtype: object\n"
     ]
    }
   ],
   "source": [
    "print(df.loc[df['country'] == 'Slovenia']['description'])"
   ],
   "metadata": {
    "collapsed": false,
    "pycharm": {
     "name": "#%%\n"
    }
   }
  },
  {
   "cell_type": "code",
   "execution_count": 298,
   "outputs": [
    {
     "name": "stdout",
     "output_type": "stream",
     "text": [
      "Earthy with hints of roasted nuts and dried herb, this is a uniquely savory Sauvignon that would pair well with herb-accented fowl and fish. The palate is round and rich, but balanced with brisk lime acidity and a characteristic grassiness on the finish. This Slovenian Chardonnay has aromas of orange, vanilla, toasted almonds and citrus blossom. The mouth delivers flavors of honeydew melon, pear and apple before a crisp acidic finish. This amber colored, orange-style wine has aromas of canned peaches and apricots on the nose, while fresh stone fruits seem to dominate the full bodied palate. The finish is creamy and lingers on. This wine is garnet in color, with aromas of cherry, vanilla, red plum and cassis. Flavors of tart cherry, red raspberry and blackberry drive the palate and lead to a lingering finish. Vanilla and cookie crumb notes add a sweet, toasty flair to the sour cherry flavor on this bright, nervy red. The palate is tart, tangy and refreshingly tasty, with soft, chalky tannins that linger on the finish. A musky white-flower note melds into savory notes of hazelnut oil and nut skin on the nose and palate of this smoky, rather mysterious wine. Tart with tangerine acidity, it's refreshingly brisk but finishes long with a hint of smoky vanilla. Aromas of freshly mowed grass, lemon pith, and lemon grass open for mineral-driven flavors of Bartlett pear, lemon juice and green apple in the midpalate. Delicate on the attack, with gentle orange blossom and honeyed lemon flavors, this mineral-driven Pinot Grigio builds in intensity and tangerine fruitiness on the palate. It finishes crisp, with tonic lime pith and herb notes. This Slovenian Ribolla Gialla has aromas of peach and vanilla, with flavors of freshly baked peach pie, canned apricots and green apple. It is soft on entry, rounded in the mouth and shows good minerality on the finish. Crafted in an oxidative style, this wine is light brown to the eye, with aromas of toasted nuts and caramelized pineapple. Flavors of hazelnut, toasted almond and lemon sorbet continue through the smooth finish that ends on a zesty note. Honey and orange rind notes meld with a hint of waxy lanolin on this richly textured white wine. Savory hints of smoke and black tea are balanced with a touch of bright citrus rind and a delicate salinity that lingers on the finish. Ebulliently perfumed with heady white florals that blow off to reveal a luscious, white peach nose, this dry, full-bodied Traminer is a bit high in alcohol, but plush and pleasant on the palate with yellow peach, tangerine and waxy lanolin notes. A straw yellow color, with pink tinges, this bright wine is zesty and juicy at the same time. It has a round body and full mouthfeel, with flavors of green apple, Bartlett pear and citrus blossoms. There's bracing lime-juice acidity on the finish. Known in Italy as Ribolla Gialla, Rebula is the name used for the same grape on the Slovenian side of the border. This wine has aromas of pineapple, tropical fruit and dried lavender. Flavors of green apple and pineapple flourish on the palate, lingering into the surprisingly tart finish. This sweet wine is nut brown in color, with aromas of dried prunes, caramelized pears and raisins. The palate is driven by sweet, dried fruit tones, balanced by bright acidity. This 100% Ribolla Gialla has aromas of green apple and apple cider. There's nice minerality in the mouth with flavors of apple pie, apple cider and a touch of creaminess. The finish is pleasantly bright. Aromas of honeysuckle, yellow canned peach and wet slate lead to flavors of grapefruit peel, citrus blossom and lemon zest in the mouth. The finish is crisp and zippy. This Slovenian Sauvignon Blanc has aromas of lemon grass and freshly mowed lawn. It is sharp on entry with flavors of lime juice, orange zest and grapefruit before the bright acidic finish. This is pale blush colored, with aromas of rose petal, jasmine blossom and fresh picked strawberry that continue seamlessly onto the palate. It's got a great strawberry zing on the finish, with bright, balanced acidity. This blend of 40% Furmint, 40% Pinot Gris and 20% Riesling has aromas of pineapple, lychee fruit and fresh herbs. It's thin and racy in the mouth with flavors of mango, apple and guava. This salmon-colored rosé suggests aromas of powdered sugar, red raspberry and dried herbs. It is soft on the entry with a touch of sweetness and flavors of Red Delicious apple, Turkish delight and marzipan. Fragrant of freshly cut grass, honeydew melon and orange blossoms, this dry, medium-bodied Sauvignon Blanc from Slovenia has pleasant grapefruit and lemon flavors and a racy, zippy acidity that tingles on the tongue. It's a simple but refreshing wine with a lime zest and smoke finish. Intoxicating on the nose with aromas of raspberry, cherry and violet, this is a powerfully structured, Pinot Noir that balances brawn with delicate mineral and herb notes. Bright and juicy, this has a red cherry flavor that lingers long on the finish. Like all of Movia's red wines, the Modri Ceglo is herbaceous on the nose and palate, with hints of menthol and bramble adding complexity to the crisp red-fruit flavors. The palate is ripe, silken and elegantly structured, with brisk acidity and whispers of graphite, soy and brine that linger long on the finish. This deep garnet colored wine offers aromas of dried cherry, black raspberry and smoked sausage. It has an interesting balance of fruity and savory characteristics among raspberry, saddle leather and spicy tobacco flavors. Aromas of blackberry, farmstand, leather and smoked meats prime the taste buds for a wine whose flavors of cassis, smoked meat, leather and tobacco may be an acquired taste for some drinkers. This wine is pleasant overall, but the sophisticated taste profile may not be to everyone's liking. Aromas of lemon meringue pie, lemon grass and caramelized pineapple open to flavors of wet river rocks, lemon zest and lime pith. Bright finish with strong minerality. This blend of 70% Blaufränkisch, 20% Pinot Noir and 10% Zweigelt has aromas of cranberry, pomegranate and dried cherry with flavors of blackberry and red raspberry. There's a pleasant touch of spicy black pepper in the finish. A musky white-flower note melds into savory notes of hazelnut oil and nut skin on the nose and palate of this smoky, rather mysterious wine. Tart with tangerine acidity, it's refreshingly brisk but finishes long with a hint of smoky vanilla. While savory and smoky on the nose with subdued aromas of apple and pineapple, this dry yet fruity Furmint from Slovenia offers a host of bright tropical flavors. Full bodied with a bracingly high acidity that's a tad off-balance, it's a refreshing wine for everyday. This opens with aromas of sour cherry and red raspberry. In the mouth, there are pleasant flavors of tart cherry and red raspberry leading up to an astringent yet balanced finish. This blend of 40% Ribolla Gialla, 30% Chardonnay and 30% Sauvignonasse has aromas of freshly cut grass, lemon grass and white peach. It is clean and bright in the mouth with flavors of peach, apple, pear and apricot. This Chardonnay brings scents of pear juice, apple and a light whiff of mint. It is smooth on entry with flavors of caramelized pineapple and golden apple. It has good balance and a clean finish. The color of light straw, this wine offers a clean aroma of ripe pineapple. It is soft in the mouth, with a flavor of slightly tart lemon curd and a hint of lemon blossom. Pale straw in color with a faint touch of green, this wine has a nose of lemon blossom and freshly cut grass. Crisp, clean flavors of apple and lemon zest wash over the tongue, culminating in a burst of fresh acidity. A blend of Sauvignon Blanc and Pinot Grigio, this wine features an intriguing nose of lemon grass. Flavors of pineapple and Golden Delicious apple mingle on the round palate. Intensely green and herbal on the nose, this has penetrating flavors of gooseberry, lavender, mint and grass. This Sauvignon Blanc, which was aged for two years in French barrique, is textural, with its hints of green-tea-like tannin. Medium to dark pink in color, this semi-dry rosé has aromas of rose petals, freshly picked cherries and cherry blossoms. It has just the right touch of sweetness and flavors of early summer strawberries and dried rose hips. In the mouth it shows roundness and the finish shines with pronounced astringency. Garnet in color with aromas of black cherry and cranberry juice, it has a strong acidic backbone with flavors of black cherry and red plums. A bit linear yet pleasant in the mouth, this wine would stand up to your spiciest stew. This Slovenian sparkling wine is made from 100% Ribolla Gialla in the Charmat method. It has aromas of green apple, brioche, toast and hazelnut. In the mouth, the bubbles are pleasant and prepare your palate for flavors of apple, hazelnut and toasted almond. Light straw in the glass, this wine offers green herbal aromas on the nose, complemented by floral notes and a whiff of sandalwood. Its green apple flavors and strong minerality make for an enjoyable quaff. This wine has a nose of lemon peel, lemon grass, and a freshly cut lawn. It is clean in the mouth, with flavors of lemon, lime and Seckle pear that wind down to a mineral-laden finish. This orange-style wine is dark straw in color and has jasmine and vanilla tones on the nose, while flavors of canned apricots and fresh peaches drive the palate. There's a soft and sensuous finish, due to the 18 month barrels aging. A mix of bright red cherry, blueberry, thyme, and rosemary bring nuance to the nose. It's full bodied on the palate, with flavors of black cherry and black plum. A touch of salty minerality brings flair to the finish. Ravan is the local Slovenian name for the Friulano grape. This tasty wine is medium gold to dark straw in color with aromas of honeysuckle, passion fruit and freshly baked apple pie. The finish is pleasantly astringent with lingering flavors of hazelnut. It's perfect to pair with game birds such as duck or quail. This wine has aromas of freshly mowed grass, peaches and white flowers. It is slightly sweet with flavors of canned peach, white peach juice and apricot nectar. Soft straw to the eye with pleasing aromas of vanilla and caramel with soft citrus undertones, this wine offers flavors of white peach and green fig. It is somewhat full in the mouth, with a hint of tart nectarine on the finish. An easy-drinking wine, it has pronounced aromas and flavors of cherry vanilla soda, blackberry preserves and just a touch of menthol. Dark straw in the glass, this wine has a bouquet of apricot, canned peaches, and tropical fruit. Dry on the palate, it offers flavors of peach juice and apricot nectar that linger into the Mediteranean herb-laden finish. Dark cherry to garnet in color, it offers notes of blackberry, pomegranate and black cherry in its bouquet. A strong acidic backbone and persistent cranberry flavor at the finish make this a wine that calls out for food. A noble tribute to his Bordeaux training, winemaker Jean Michel Morel's namesake blend is beautifully concentrated with rich, sweet black fruit, with hints of violet, savory mushroom, cured meat and clay. A textured and powerful wine with vibrant acidity, it finishes long, with a swathe of velvety tannins. Intense aromas of freshly picked mint and dried herb drive the bouquet. On the palate there are flavors of black currant, black plum and tobacco leaf. The finish is long with a pleasant level of acidity. This sparkling Riesling smells of canned yellow peaches and apricots. It is effervescent on entry with flavors of white peach nectar and white flowers. There is a slight sweetness in the finish. Impeccably refreshing, this Ribolla Gialla is full of sweet, fresh apple and melon flavors. Chalky minerality and a shower of lemon-lime acidity add nerve and elegance. This brilliant straw colored Chardonnay has aromas of lemon blossoms and green apples. On the palate, it's smooth and clean with flavors of lemon curd and baked apple. This red blend is comprised of 80% Merlot, 10% Cabernet Sauvignon and 10% Cabernet Franc. It has aromas of perfumed violet talc and red raspberry. Flavors of cherry vanilla and tart pomegranate partner with fine tannins, finishing with a nice splash of fruit acidity. This is a delightfully curious, multifaceted wine that's penetrating with flavors of dried fig, black tea, honey and smoke. A savory wet clay note is interspersed with a note of sweet spice, plus tea-leaf tannins that linger long on the finish. Amber gold in the glass, this Ribolla Gialla has aromas of wet river rocks, vanilla bean and honeycomb. It has a luscious mouthfeel with pronounced minerality and flavors of apricot, apple and ripe pear. This is a blend of Malvasia, Ribolla and Welschriesling that balances flavors of fennel, smoked nut and black tea with delicate orange blossom and apple notes. Luscious, with a slightly waxy texture, it finishes on a sweet cream note. Hints of smoke and roasted nut add a savory tone to the zesty lemon and pear flavors on this structured Chardonnay. Lusciously textured, with a touch of lemon curd and zingy tangerine acidity, it's a powerful wine with a long finish. Bramble, smoke and charred wood notes add rusticity to the subtle red-cherry and plum flavors. The full-bodied palate is earthy, with tones of dried mushroom and leaf that are marked by big, chunky tannins. It finishes surprisingly sweetly, with a bright red-raspberry note. This sparkling Riesling smells of canned yellow peaches and apricots. It is effervescent on entry with flavors of white peach nectar and white flowers. There is a slight sweetness in the finish. This wine has aromas of freshly mowed grass, peaches and white flowers. It is slightly sweet with flavors of canned peach, white peach juice and apricot nectar. This Riesling from Slovenia is a bit perfumed on the nose with an abundance of white blossoms, baby powder and pink grapefruit aromas, but there's a pleasant, citrusy sweetness and acidity throughout. Medium bodied, it finishes quite dry with a gentle white tea astringency. This Slovenian Ribolla Gialla has aromas of peach and vanilla, with flavors of freshly baked peach pie, canned apricots and green apple. It is soft on entry, rounded in the mouth and shows good minerality on the finish. Golden yellow in color, this Slovenian wine made from the Ribolla Gialla grape shows pretty apple and pear notes, but a distinctly savory profile as well, with hints of smoke, toasted hazelnut skins and oxidization. This fascinating blend of biodynamically farmed Malvasia, Ribolla and Welschriesling balances savory smoke and toasted wood notes with sweet elements of apple, lemon and cream. Fermented with indigenous yeast, it's a richly textured wine with deep complexity. Light amber in color, this five year old Sauvignon Blanc has aromas of caramelized pear and grilled pineapple. This style of wine pairs perfectly with strong, earthy cheeses. Aromas of white flowers and ripe banana lead the way to flavors of tart green apple and melon. The finish is pleasant but slightly acidic. This blend of 40% Furmint, 40% Pinot Gris and 20% Riesling has aromas of pineapple, lychee fruit and fresh herbs. It's thin and racy in the mouth with flavors of mango, apple and guava. Medium straw in color, this wine has aromas of caramelized pineapple and Banana's Foster. It conveys flavors of tart apple cider and freshly sliced Honeycrisp apple. The finish is pleasantly acidic, with a bright splash of acidity in the post palate. This Slovenian sparkling wine is made from 100% Ribolla Gialla in the Charmat method. It has aromas of green apple, brioche, toast and hazelnut. In the mouth, the bubbles are pleasant and prepare your palate for flavors of apple, hazelnut and toasted almond. This Slovenian Cabernet Sauvignon has aromas of bramble, pencil lead and red plum. It is soft on entry into the mouth with flavors of black plum, black raspberry and a soft, sweet tannic finish. Ripe and rich in texture, this powerful Slovenian Cabernet balances a bold black-cherry flavor with loads of savory dried herb, graphite and reverberating acidity. There's a nervous quality about this wine that could smooth out with a good decant, or a few more years in a cellar. This Slovenian red blend of 40% Cabernet Franc, 30% Cabernet Sauvignon and 30% Merlot has aromas of raspberry, cherry and a touch of green bramble. In the mouth, there is balanced acidity with flavors of cherry pie and dried plums. The finish is persistent with grippy tannins. Notes of mint and thyme add savory tones to bright, pristine flavors of cassis and black cherry in this blend of Merlot, Pinot Noir and Cabernet Sauvignon. Structured and full bodied, this has warm oak tones and striking acidity. It's delicious now, but it should continue to develop over the next five years. This blend of 40% Ribolla Gialla, 30% Chardonnay and 30% Sauvignonasse has aromas of freshly cut grass, lemon grass and white peach. It is clean and bright in the mouth with flavors of peach, apple, pear and apricot. Rebula is known in Slovenia as “The Queen Of Brda.” This orange wine has aromas of toasted hazelnuts, black Chinese tea and mulled citrus rind. It's fermented with its skins and barrel aged for two years. A pleasant nutty oxidative character characterizes the finish. It would make any wine geek proud to pair it with a juicy steak. Sivi Pinot is the Slovenian name for Pinot Gris and this will delight oenophiles looking for a new orange wine. It's pinkish brown in color due to two years of barrel aging and has aromas of peach cobbler and freshly baked piecrust. Smooth in the mouth, it discloses pronounced flavors of custard and crème brûlée. Think about pairing it with some of your strongest and ripest cheeses. Honeyed on the nose with bursts of ripe yellow peach and apricot, this dry, full-bodied Sauvignon is similarly soft and fruity on the palate. Fresh green floral and herb notes add vibrance to a moderately long finish. Earthy with hints of roasted nuts and dried herb, this is a uniquely savory Sauvignon that would pair well with herb-accented fowl and fish. The palate is round and rich, but balanced with brisk lime acidity and a characteristic grassiness on the finish. Aromas of black cherry and smoked meats lead to tastes of black cherry and vanilla. It is soft both on entry and finish. Zesty and full bodied, this has delightful aromas of freshly mowed lawn, lemon pith and grapefruit zest. It's clean, crisp and somewhat astringent on the palate, making this a great wine to pair with raw clams and oysters. This has ebullient aromas of cherry blossom, grapefruit and yuzu peel. Structurally complex, this has concentrated flavors of sour plum and pink grapefruit. It's brisk with acidity, and there's a lavish minerality that lingers long on the finish. This blend of 70% Blaufränkisch, 20% Pinot Noir and 10% Zweigelt has aromas of cranberry, pomegranate and dried cherry with flavors of blackberry and red raspberry. There's a pleasant touch of spicy black pepper in the finish. This blend is garnet colored with a hint of eucalyptus in the bouquet, opening up to aromas of black fruit, forest floor and freshly picked mushroom. Minerality abounds on the palate, with flavors of red berries and black plums. Dark cherry to garnet in color, it offers notes of blackberry, pomegranate and black cherry in its bouquet. A strong acidic backbone and persistent cranberry flavor at the finish make this a wine that calls out for food.\n"
     ]
    }
   ],
   "source": [
    "text = df.loc[df['country'] == 'Slovenia']['description'].str.cat(sep=' ')\n",
    "print(text)"
   ],
   "metadata": {
    "collapsed": false,
    "pycharm": {
     "name": "#%%\n"
    }
   }
  },
  {
   "cell_type": "code",
   "execution_count": 299,
   "outputs": [
    {
     "name": "stdout",
     "output_type": "stream",
     "text": [
      ",              : 232\n",
      "and            : 224\n",
      ".              : 193\n",
      "of             : 184\n",
      "the            : 126\n",
      "with           : 101\n",
      "a              : 99\n",
      "this           : 83\n",
      "flavors        : 63\n",
      "is             : 62\n"
     ]
    }
   ],
   "source": [
    "tokens = word_tokenize(text)\n",
    "tokens = [word.lower() for word in tokens]\n",
    "\n",
    "tokens_frequency = FreqDist(tokens)\n",
    "\n",
    "for word, freq in tokens_frequency.most_common(10):\n",
    "  print(f'{word:<15}: {freq}')"
   ],
   "metadata": {
    "collapsed": false,
    "pycharm": {
     "name": "#%%\n"
    }
   }
  },
  {
   "cell_type": "code",
   "execution_count": 300,
   "outputs": [
    {
     "data": {
      "text/plain": "<Figure size 640x480 with 1 Axes>",
      "image/png": "[encoded data removed]"
     },
     "metadata": {},
     "output_type": "display_data"
    },
    {
     "data": {
      "text/plain": "<AxesSubplot:xlabel='Samples', ylabel='Counts'>"
     },
     "execution_count": 300,
     "metadata": {},
     "output_type": "execute_result"
    }
   ],
   "source": [
    "tokens_frequency.plot(20, cumulative=False)"
   ],
   "metadata": {
    "collapsed": false,
    "pycharm": {
     "name": "#%%\n"
    }
   }
  },
  {
   "cell_type": "code",
   "execution_count": 301,
   "outputs": [
    {
     "name": "stdout",
     "output_type": "stream",
     "text": [
      "flavors        : 63\n",
      "aromas         : 52\n",
      "finish         : 46\n",
      "wine           : 43\n",
      "apple          : 35\n"
     ]
    }
   ],
   "source": [
    "stop_list = stopwords.words('english') + list(string.punctuation)\n",
    "tokens_without_stop = [token for token in tokens if token not in stop_list]\n",
    "\n",
    "tokens_frequency_without_stop = FreqDist(tokens_without_stop)\n",
    "\n",
    "for word, freq in tokens_frequency_without_stop.most_common(5):\n",
    "  print(f'{word:<15}: {freq}')"
   ],
   "metadata": {
    "collapsed": false,
    "pycharm": {
     "name": "#%%\n"
    }
   }
  },
  {
   "cell_type": "code",
   "execution_count": 302,
   "outputs": [],
   "source": [
    "stemmer = PorterStemmer()\n",
    "tokens_stemmed = [stemmer.stem(word) for word in tokens_without_stop]"
   ],
   "metadata": {
    "collapsed": false,
    "pycharm": {
     "name": "#%%\n"
    }
   }
  },
  {
   "cell_type": "code",
   "execution_count": 303,
   "outputs": [
    {
     "name": "stdout",
     "output_type": "stream",
     "text": [
      "Four most common bigrams:\n",
      "('green', 'appl'): 11\n",
      "('ribolla', 'gialla'): 11\n",
      "('white', 'peach'): 8\n",
      "('mouth', 'flavor'): 8\n",
      "Four most common bigrams:\n",
      "('aroma', 'freshli', 'mow'): 4\n",
      "('ribolla', 'gialla', 'aroma'): 4\n",
      "('freshli', 'cut', 'grass'): 4\n",
      "('linger', 'long', 'finish'): 4\n"
     ]
    }
   ],
   "source": [
    "bigrams = FreqDist(ngrams(tokens_stemmed, 2))\n",
    "trigrams = FreqDist(ngrams(tokens_stemmed, 3))\n",
    "\n",
    "print(\"Four most common bigrams:\")\n",
    "for word, freq in bigrams.most_common(4):\n",
    "  print(f'{str(word):<15}: {freq}')\n",
    "\n",
    "print(\"Four most common bigrams:\")\n",
    "for word, freq in trigrams.most_common(4):\n",
    "  print(f'{str(word):<15}: {freq}')"
   ],
   "metadata": {
    "collapsed": false,
    "pycharm": {
     "name": "#%%\n"
    }
   }
  },
  {
   "cell_type": "code",
   "execution_count": 304,
   "outputs": [
    {
     "name": "stdout",
     "output_type": "stream",
     "text": [
      "   wineId  country                                        description  \\\n",
      "0     219  Hungary  From a vineyard in Northern Tokaj this dry Fur...   \n",
      "1     271   Greece  Lively aromas of lemon, grapefruit and melon s...   \n",
      "2     308   Greece  This fuller-bodied white blend offers pineappl...   \n",
      "3     351  Hungary  This amber-colored Hungarian stunner has ether...   \n",
      "4     377   Greece  A fresh, tangy, vibrant wine that has ripe gre...   \n",
      "\n",
      "                                           processed  \n",
      "0  from vineyard northern tokaj dri furmint aroma...  \n",
      "1  live aroma lemon grapefruit melon start white ...  \n",
      "2  thi fuller-bodi white blend offer pineappl kiw...  \n",
      "3  thi amber-color hungarian stunner ether aroma ...  \n",
      "4  a fresh tangi vibrant wine ripe green plum app...  \n"
     ]
    }
   ],
   "source": [
    "def process_description(description: str):\n",
    "  result = [stemmer.stem(token.lower()) for token in word_tokenize(description) if token not in stop_list]\n",
    "  return ' '.join(result)\n",
    "\n",
    "df['processed'] = df['description'].apply(process_description)\n",
    "print(df.head())"
   ],
   "metadata": {
    "collapsed": false,
    "pycharm": {
     "name": "#%%\n"
    }
   }
  },
  {
   "cell_type": "code",
   "execution_count": 305,
   "outputs": [
    {
     "name": "stdout",
     "output_type": "stream",
     "text": [
      "Number of tokens created: 1743\n"
     ]
    }
   ],
   "source": [
    "vectorizer = TfidfVectorizer(ngram_range=(1,1),\n",
    "                             lowercase=True)\n",
    "\n",
    "inputData = vectorizer.fit_transform(df['processed'])\n",
    "\n",
    "print(\"Number of tokens created:\", len(vectorizer.get_feature_names_out()))"
   ],
   "metadata": {
    "collapsed": false,
    "pycharm": {
     "name": "#%%\n"
    }
   }
  },
  {
   "cell_type": "code",
   "execution_count": 306,
   "outputs": [
    {
     "name": "stdout",
     "output_type": "stream",
     "text": [
      "0.7927461139896373\n"
     ]
    }
   ],
   "source": [
    "X_train, X_test, y_train, y_test = train_test_split(inputData, df['country'], test_size=0.25, random_state=123)\n",
    "\n",
    "clf = svm.SVC()\n",
    "clf.fit(X_train, y_train)\n",
    "predictions = clf.predict(X_test)\n",
    "\n",
    "print(accuracy_score(y_test, predictions))"
   ],
   "metadata": {
    "collapsed": false,
    "pycharm": {
     "name": "#%%\n"
    }
   }
  },
  {
   "cell_type": "code",
   "execution_count": 307,
   "outputs": [
    {
     "name": "stdout",
     "output_type": "stream",
     "text": [
      "Number of tokens created: 10887\n",
      "0.6735751295336787\n"
     ]
    }
   ],
   "source": [
    "vectorizer = TfidfVectorizer(ngram_range=(2,2),\n",
    "                             lowercase=True)\n",
    "\n",
    "inputData = vectorizer.fit_transform(df['processed'])\n",
    "\n",
    "print(\"Number of tokens created:\", len(vectorizer.get_feature_names_out()))\n",
    "\n",
    "X_train, X_test, y_train, y_test = train_test_split(inputData, df['country'], test_size=0.25, random_state=123)\n",
    "\n",
    "clf = svm.SVC()\n",
    "clf.fit(X_train, y_train)\n",
    "predictions = clf.predict(X_test)\n",
    "\n",
    "print(accuracy_score(y_test, predictions))"
   ],
   "metadata": {
    "collapsed": false,
    "pycharm": {
     "name": "#%%\n"
    }
   }
  },
  {
   "cell_type": "code",
   "execution_count": 308,
   "outputs": [
    {
     "name": "stdout",
     "output_type": "stream",
     "text": [
      "Number of tokens created: 15559\n",
      "0.6735751295336787\n"
     ]
    }
   ],
   "source": [
    "vectorizer = TfidfVectorizer(ngram_range=(3,3),\n",
    "                             lowercase=True)\n",
    "\n",
    "inputData = vectorizer.fit_transform(df['processed'])\n",
    "\n",
    "print(\"Number of tokens created:\", len(vectorizer.get_feature_names_out()))\n",
    "\n",
    "X_train, X_test, y_train, y_test = train_test_split(inputData, df['country'], test_size=0.25, random_state=123)\n",
    "\n",
    "clf = svm.SVC()\n",
    "clf.fit(X_train, y_train)\n",
    "predictions = clf.predict(X_test)\n",
    "\n",
    "print(accuracy_score(y_test, predictions))"
   ],
   "metadata": {
    "collapsed": false,
    "pycharm": {
     "name": "#%%\n"
    }
   }
  },
  {
   "cell_type": "code",
   "execution_count": 309,
   "outputs": [
    {
     "name": "stdout",
     "output_type": "stream",
     "text": [
      "Number of tokens created: 2109\n",
      "0.772020725388601\n"
     ]
    }
   ],
   "source": [
    "vectorizer = TfidfVectorizer(ngram_range=(1,1),\n",
    "                             lowercase=True)\n",
    "\n",
    "inputData = vectorizer.fit_transform(df['description'])\n",
    "\n",
    "print(\"Number of tokens created:\", len(vectorizer.get_feature_names_out()))\n",
    "\n",
    "X_train, X_test, y_train, y_test = train_test_split(inputData, df['country'], test_size=0.25, random_state=123)\n",
    "\n",
    "clf = svm.SVC()\n",
    "clf.fit(X_train, y_train)\n",
    "predictions = clf.predict(X_test)\n",
    "\n",
    "print(accuracy_score(y_test, predictions))"
   ],
   "metadata": {
    "collapsed": false,
    "pycharm": {
     "name": "#%%\n"
    }
   }
  }
 ],
 "metadata": {
  "kernelspec": {
   "display_name": "Python 3",
   "language": "python",
   "name": "python3"
  },
  "language_info": {
   "codemirror_mode": {
    "name": "ipython",
    "version": 2
   },
   "file_extension": ".py",
   "mimetype": "text/x-python",
   "name": "python",
   "nbconvert_exporter": "python",
   "pygments_lexer": "ipython2",
   "version": "2.7.6"
  }
 },
 "nbformat": 4,
 "nbformat_minor": 0
}